{
 "cells": [
  {
   "cell_type": "code",
   "execution_count": 1,
   "id": "2020371d",
   "metadata": {},
   "outputs": [
    {
     "name": "stdout",
     "output_type": "stream",
     "text": [
      "Jupyter environment detected. Enabling Open3D WebVisualizer.\n",
      "[Open3D INFO] WebRTC GUI backend enabled.\n",
      "[Open3D INFO] WebRTCWindowSystem: HTTP handshake server disabled.\n"
     ]
    }
   ],
   "source": [
    "import open3d as o3d\n",
    "import os\n",
    "path = \"../experiment/test/redandblack/predlift/r01/redandblack.ply.bin.decoded.ply\""
   ]
  },
  {
   "cell_type": "code",
   "execution_count": 3,
   "id": "6dbac87f",
   "metadata": {},
   "outputs": [
    {
     "name": "stdout",
     "output_type": "stream",
     "text": [
      "[Open3D WARNING] Read PLY failed: unable to read file: ../experiment/test/redandblack/predlift/r01/redandblack.ply.bin.decoded.ply\n",
      "PointCloud with 757691 points.\n"
     ]
    }
   ],
   "source": [
    "# Reading the point cloud using PCD\n",
    "pcd = o3d.io.read_point_cloud(\"../experiment/test/redandblack/predlift/r01/redandblack.ply.bin.decoded.ply\")\n",
    "print(pcd)\n",
    "o3d.visualization.draw_geometries([pcd])"
   ]
  },
  {
   "cell_type": "code",
   "execution_count": 6,
   "id": "7142301d",
   "metadata": {},
   "outputs": [
    {
     "data": {
      "text/plain": [
       "['HalfEdgeTriangleMesh',\n",
       " 'Image',\n",
       " 'LineSet',\n",
       " 'PointCloud',\n",
       " 'RGBDImage',\n",
       " 'TetraMesh',\n",
       " 'TriangleMesh',\n",
       " 'Type',\n",
       " 'Unspecified',\n",
       " 'VoxelGrid',\n",
       " '__add__',\n",
       " '__class__',\n",
       " '__copy__',\n",
       " '__deepcopy__',\n",
       " '__delattr__',\n",
       " '__dir__',\n",
       " '__doc__',\n",
       " '__eq__',\n",
       " '__format__',\n",
       " '__ge__',\n",
       " '__getattribute__',\n",
       " '__gt__',\n",
       " '__hash__',\n",
       " '__iadd__',\n",
       " '__init__',\n",
       " '__init_subclass__',\n",
       " '__le__',\n",
       " '__lt__',\n",
       " '__module__',\n",
       " '__ne__',\n",
       " '__new__',\n",
       " '__reduce__',\n",
       " '__reduce_ex__',\n",
       " '__repr__',\n",
       " '__setattr__',\n",
       " '__sizeof__',\n",
       " '__str__',\n",
       " '__subclasshook__',\n",
       " 'clear',\n",
       " 'cluster_dbscan',\n",
       " 'colors',\n",
       " 'compute_convex_hull',\n",
       " 'compute_mahalanobis_distance',\n",
       " 'compute_mean_and_covariance',\n",
       " 'compute_nearest_neighbor_distance',\n",
       " 'compute_point_cloud_distance',\n",
       " 'covariances',\n",
       " 'create_from_depth_image',\n",
       " 'create_from_rgbd_image',\n",
       " 'crop',\n",
       " 'dimension',\n",
       " 'estimate_covariances',\n",
       " 'estimate_normals',\n",
       " 'estimate_point_covariances',\n",
       " 'get_axis_aligned_bounding_box',\n",
       " 'get_center',\n",
       " 'get_geometry_type',\n",
       " 'get_max_bound',\n",
       " 'get_min_bound',\n",
       " 'get_oriented_bounding_box',\n",
       " 'get_rotation_matrix_from_axis_angle',\n",
       " 'get_rotation_matrix_from_quaternion',\n",
       " 'get_rotation_matrix_from_xyz',\n",
       " 'get_rotation_matrix_from_xzy',\n",
       " 'get_rotation_matrix_from_yxz',\n",
       " 'get_rotation_matrix_from_yzx',\n",
       " 'get_rotation_matrix_from_zxy',\n",
       " 'get_rotation_matrix_from_zyx',\n",
       " 'has_colors',\n",
       " 'has_covariances',\n",
       " 'has_normals',\n",
       " 'has_points',\n",
       " 'hidden_point_removal',\n",
       " 'is_empty',\n",
       " 'normalize_normals',\n",
       " 'normals',\n",
       " 'orient_normals_consistent_tangent_plane',\n",
       " 'orient_normals_to_align_with_direction',\n",
       " 'orient_normals_towards_camera_location',\n",
       " 'paint_uniform_color',\n",
       " 'points',\n",
       " 'random_down_sample',\n",
       " 'remove_non_finite_points',\n",
       " 'remove_radius_outlier',\n",
       " 'remove_statistical_outlier',\n",
       " 'rotate',\n",
       " 'scale',\n",
       " 'segment_plane',\n",
       " 'select_by_index',\n",
       " 'transform',\n",
       " 'translate',\n",
       " 'uniform_down_sample',\n",
       " 'voxel_down_sample',\n",
       " 'voxel_down_sample_and_trace']"
      ]
     },
     "execution_count": 6,
     "metadata": {},
     "output_type": "execute_result"
    }
   ],
   "source": [
    "content = dir(pcd)\n",
    "# content of the pcd Class\n",
    "content"
   ]
  },
  {
   "cell_type": "markdown",
   "id": "92dbfac7",
   "metadata": {},
   "source": [
    "### Function to downsample input pointcloud into output pointcloud uniformly. The sample is performed in the order of the points with the 0-th point always chosen, not at random."
   ]
  },
  {
   "cell_type": "code",
   "execution_count": 3,
   "id": "f870f47c",
   "metadata": {},
   "outputs": [
    {
     "data": {
      "text/plain": [
       "PointCloud with 7577 points."
      ]
     },
     "execution_count": 3,
     "metadata": {},
     "output_type": "execute_result"
    }
   ],
   "source": [
    "sampled=pcd.uniform_down_sample(100)\n",
    "o3d.visualization.draw_geometries([sampled])\n",
    "sampled"
   ]
  },
  {
   "cell_type": "markdown",
   "id": "f52ca751",
   "metadata": {},
   "source": [
    "### Function to downsample input pointcloud into output pointcloud randomly. The sample is generated by randomly sampling the indexes from the point cloud."
   ]
  },
  {
   "cell_type": "code",
   "execution_count": 11,
   "id": "8fd74453",
   "metadata": {},
   "outputs": [
    {
     "data": {
      "text/plain": [
       "PointCloud with 7576 points."
      ]
     },
     "execution_count": 11,
     "metadata": {},
     "output_type": "execute_result"
    }
   ],
   "source": [
    "sampled=pcd.random_down_sample(0.01)\n",
    "o3d.visualization.draw_geometries([sampled])\n",
    "sampled"
   ]
  },
  {
   "cell_type": "markdown",
   "id": "9133ca41",
   "metadata": {},
   "source": [
    "### Farthest Point sampling ( FPS )"
   ]
  },
  {
   "cell_type": "code",
   "execution_count": 42,
   "id": "a33e8fb9",
   "metadata": {},
   "outputs": [],
   "source": [
    "def fps(points, n_samples):\n",
    "    \"\"\"\n",
    "    points: [N, 3] array containing the whole point cloud\n",
    "    n_samples: samples you want in the sampled point cloud typically << N \n",
    "    \"\"\"\n",
    "    # Represent the points by their indices in points\n",
    "    points_left = np.arange(len(points)) # [P]\n",
    "\n",
    "    # Initialise an array for the sampled indices\n",
    "    sample_inds = np.zeros(n_samples, dtype='int') # [S]\n",
    "\n",
    "    # Initialise distances to inf\n",
    "    dists = np.ones_like(points_left) * float('inf') # [P]\n",
    "\n",
    "    # Select a point from points by its index, save it\n",
    "    selected = 0\n",
    "    sample_inds[0] = points_left[selected]\n",
    "\n",
    "    # Delete selected \n",
    "    points_left = np.delete(points_left, selected) # [P - 1]\n",
    "\n",
    "    # Iteratively select points for a maximum of n_samples\n",
    "    for i in range(1, n_samples):\n",
    "        # Find the distance to the last added point in selected\n",
    "        # and all the others\n",
    "        last_added = sample_inds[i-1]\n",
    "        \n",
    "        dist_to_last_added_point = (\n",
    "            (points[last_added] - points[points_left])**2).sum(-1) # [P - i]\n",
    "\n",
    "        # If closer, updated distances\n",
    "        dists[points_left] = np.minimum(dist_to_last_added_point, \n",
    "                                        dists[points_left]) # [P - i]\n",
    "\n",
    "        # We want to pick the one that has the largest nearest neighbour\n",
    "        # distance to the sampled points\n",
    "        selected = np.argmax(dists[points_left])\n",
    "        sample_inds[i] = points_left[selected]\n",
    "\n",
    "        # Update points_left\n",
    "        points_left = np.delete(points_left, selected)\n",
    "\n",
    "    return points[sample_inds]"
   ]
  },
  {
   "cell_type": "code",
   "execution_count": 45,
   "id": "2acbf785",
   "metadata": {},
   "outputs": [
    {
     "name": "stdout",
     "output_type": "stream",
     "text": [
      "[Open3D WARNING] Read PLY failed: unable to read file: ../experiment/test/redandblack/predlift/r01/redandblack.ply.bin.decoded.ply\n"
     ]
    }
   ],
   "source": [
    "pcd = o3d.io.read_point_cloud(path)\n",
    "pcd_np = pcd_xyz = np.asarray(pcd.points)\n",
    "points = fps(pcd_np,1000)\n"
   ]
  },
  {
   "cell_type": "code",
   "execution_count": 46,
   "id": "3a796486",
   "metadata": {},
   "outputs": [
    {
     "name": "stdout",
     "output_type": "stream",
     "text": [
      "[Open3D WARNING] GLFW Error: WGL: Failed to make context current: The requested transformation operation is not supported. \n"
     ]
    }
   ],
   "source": [
    "pcd2 = o3d.geometry.PointCloud()\n",
    "pcd2.points = o3d.utility.Vector3dVector(points)\n",
    "o3d.io.write_point_cloud(\"sampled.ply\", pcd2)\n",
    "\n",
    "    # Load saved point cloud and visualize it\n",
    "pcd_load = o3d.io.read_point_cloud(\"sampled.ply\")\n",
    "o3d.visualization.draw_geometries([pcd_load])"
   ]
  },
  {
   "cell_type": "code",
   "execution_count": 50,
   "id": "af0be7e6",
   "metadata": {},
   "outputs": [
    {
     "name": "stderr",
     "output_type": "stream",
     "text": [
      "2022-06-16 15:15:11.687 INFO utils - _init_num_threads: NumExpr defaulting to 4 threads.\n",
      "C:\\Users\\Skander\\Point clouds\\Experimentation\\recolor\\pcc_geo_cnn_v2\\src\\map_color.py:33: DeprecationWarning: The n_jobs argument has been renamed \"workers\". The old name \"n_jobs\" will stop working in SciPy 1.8.0.\n",
      "  mapped_indices = kdtree.query(target_pc.points[['x', 'y', 'z']].values, k=2, n_jobs=-1)[1][:, 1]\n"
     ]
    }
   ],
   "source": [
    "!python \"../recolor/pcc_geo_cnn_v2/src/map_color.py\" \"../experiment/test/redandblack/predlift/r01/redandblack.ply.bin.decoded.ply\" \"sampled.ply\" \"sampled_colored.ply\""
   ]
  },
  {
   "cell_type": "code",
   "execution_count": 51,
   "id": "5bff5e4c",
   "metadata": {},
   "outputs": [
    {
     "name": "stdout",
     "output_type": "stream",
     "text": [
      "[Open3D WARNING] GLFW Error: WGL: Failed to make context current: The requested transformation operation is not supported. \n",
      "[Open3D WARNING] GLFW Error: WGL: Failed to make context current: The handle is invalid. \n"
     ]
    }
   ],
   "source": [
    "pcd_load = o3d.io.read_point_cloud(\"sampled_colored.ply\")\n",
    "o3d.visualization.draw_geometries([pcd_load])"
   ]
  },
  {
   "cell_type": "code",
   "execution_count": 4,
   "id": "f88b56ca",
   "metadata": {},
   "outputs": [
    {
     "name": "stdout",
     "output_type": "stream",
     "text": [
      "Requirement already satisfied: PyntCloud in c:\\users\\skander\\anaconda3\\lib\\site-packages (0.3.0)\n",
      "Requirement already satisfied: pandas in c:\\users\\skander\\anaconda3\\lib\\site-packages (from PyntCloud) (1.3.4)\n",
      "Requirement already satisfied: scipy in c:\\users\\skander\\anaconda3\\lib\\site-packages (from PyntCloud) (1.7.1)\n",
      "Requirement already satisfied: numpy in c:\\users\\skander\\anaconda3\\lib\\site-packages (from PyntCloud) (1.20.3)\n",
      "Requirement already satisfied: pytz>=2017.3 in c:\\users\\skander\\anaconda3\\lib\\site-packages (from pandas->PyntCloud) (2021.3)\n",
      "Requirement already satisfied: python-dateutil>=2.7.3 in c:\\users\\skander\\anaconda3\\lib\\site-packages (from pandas->PyntCloud) (2.8.2)\n",
      "Requirement already satisfied: six>=1.5 in c:\\users\\skander\\anaconda3\\lib\\site-packages (from python-dateutil>=2.7.3->pandas->PyntCloud) (1.16.0)\n"
     ]
    }
   ],
   "source": [
    "!pip install PyntCloud"
   ]
  },
  {
   "cell_type": "markdown",
   "id": "08c11325",
   "metadata": {},
   "source": [
    "### Dividing the Point cloud into blocks : "
   ]
  },
  {
   "cell_type": "code",
   "execution_count": 2,
   "id": "b8e6f948",
   "metadata": {},
   "outputs": [
    {
     "data": {
      "text/plain": [
       "array([[292.,  15., 195.,  47.,  34., 104.],\n",
       "       [290.,  15., 198.,  46.,  34., 107.],\n",
       "       [290.,  15., 199.,  47.,  35., 108.],\n",
       "       ...,\n",
       "       [549., 895., 313.,  82.,  66., 101.],\n",
       "       [554., 892., 312.,  83.,  67., 102.],\n",
       "       [554., 893., 312.,  83.,  67., 102.]])"
      ]
     },
     "execution_count": 2,
     "metadata": {},
     "output_type": "execute_result"
    }
   ],
   "source": [
    "from pyntcloud import PyntCloud\n",
    "pc = PyntCloud.from_file(path)\n",
    "points = pc.points.values\n",
    "points"
   ]
  },
  {
   "cell_type": "code",
   "execution_count": 25,
   "id": "ea3cb081",
   "metadata": {},
   "outputs": [],
   "source": [
    "cubes = {}# {block start position, points in block}\n",
    "point_cloud=points\n",
    "for _, point in enumerate(point_cloud):\n",
    "    cube_index = tuple((point//64).astype(\"int\"))\n",
    "    local_point = point % 64\n",
    "    if not cube_index in cubes.keys():\n",
    "        cubes[cube_index] = local_point\n",
    "    else:\n",
    "        cubes[cube_index] = np.vstack((cubes[cube_index] ,local_point))\n",
    "  # filter by minimum number.\n",
    "k_del = []"
   ]
  },
  {
   "cell_type": "code",
   "execution_count": 27,
   "id": "99a26af4",
   "metadata": {},
   "outputs": [],
   "source": [
    "for _, k in enumerate(cubes.keys()):\n",
    "    if cubes[k].shape[0] < 2048:\n",
    "        k_del.append(k)"
   ]
  },
  {
   "cell_type": "code",
   "execution_count": 29,
   "id": "e86b347c",
   "metadata": {},
   "outputs": [],
   "source": [
    "for _, k in enumerate(k_del):\n",
    "    del cubes[k]"
   ]
  },
  {
   "cell_type": "code",
   "execution_count": 31,
   "id": "a901cd53",
   "metadata": {},
   "outputs": [],
   "source": [
    "cube_positions = np.array(list(cubes.keys()))\n",
    "set_points = []"
   ]
  },
  {
   "cell_type": "code",
   "execution_count": 32,
   "id": "7c5f2765",
   "metadata": {},
   "outputs": [
    {
     "data": {
      "text/plain": [
       "16"
      ]
     },
     "execution_count": 32,
     "metadata": {},
     "output_type": "execute_result"
    }
   ],
   "source": [
    "step = cube_positions.max() + 1\n",
    "step"
   ]
  },
  {
   "cell_type": "code",
   "execution_count": 55,
   "id": "5c22655f",
   "metadata": {},
   "outputs": [],
   "source": [
    "cube_positions_n = cube_positions[:,0:1] + cube_positions[:,1:2]*step + cube_positions[:,2:3]*step*step\n",
    "cube_positions_n = np.sort(cube_positions_n, axis=0)"
   ]
  },
  {
   "cell_type": "code",
   "execution_count": 54,
   "id": "22b966e2",
   "metadata": {},
   "outputs": [],
   "source": [
    "x = cube_positions_n % step\n",
    "y = (cube_positions_n // step) % step\n",
    "z = cube_positions_n // step // step"
   ]
  },
  {
   "cell_type": "code",
   "execution_count": null,
   "id": "3e86ca6b",
   "metadata": {},
   "outputs": [],
   "source": [
    "cube_positions_orderd = np.concatenate((x,y,z), -1)\n",
    "for _, k in enumerate(cube_positions_orderd):\n",
    "    print(tuple(k))\n",
    "    set_points.append(cubes[tuple(k)].astype(\"int16\"))"
   ]
  },
  {
   "cell_type": "code",
   "execution_count": null,
   "id": "e607fea1",
   "metadata": {},
   "outputs": [],
   "source": []
  }
 ],
 "metadata": {
  "kernelspec": {
   "display_name": "Python 3 (ipykernel)",
   "language": "python",
   "name": "python3"
  },
  "language_info": {
   "codemirror_mode": {
    "name": "ipython",
    "version": 3
   },
   "file_extension": ".py",
   "mimetype": "text/x-python",
   "name": "python",
   "nbconvert_exporter": "python",
   "pygments_lexer": "ipython3",
   "version": "3.9.7"
  }
 },
 "nbformat": 4,
 "nbformat_minor": 5
}
