{
 "cells": [
  {
   "cell_type": "code",
   "execution_count": 1,
   "id": "2020371d",
   "metadata": {},
   "outputs": [
    {
     "name": "stdout",
     "output_type": "stream",
     "text": [
      "Jupyter environment detected. Enabling Open3D WebVisualizer.\n",
      "[Open3D INFO] WebRTC GUI backend enabled.\n",
      "[Open3D INFO] WebRTCWindowSystem: HTTP handshake server disabled.\n"
     ]
    }
   ],
   "source": [
    "import open3d as o3d\n",
    "import os"
   ]
  },
  {
   "cell_type": "code",
   "execution_count": 3,
   "id": "31fc318d",
   "metadata": {},
   "outputs": [
    {
     "name": "stdout",
     "output_type": "stream",
     "text": [
      "[Open3D WARNING] Read PLY failed: unable to read file: ../experiment/test/redandblack/predlift/r01/redandblack.ply.bin.decoded.ply\n",
      "PointCloud with 757691 points.\n"
     ]
    }
   ],
   "source": [
    "pcd = o3d.io.read_point_cloud(\"../experiment/test/redandblack/predlift/r01/redandblack.ply.bin.decoded.ply\")\n",
    "print(pcd)\n",
    "o3d.visualization.draw_geometries([pcd])"
   ]
  },
  {
   "cell_type": "code",
   "execution_count": 6,
   "id": "7142301d",
   "metadata": {},
   "outputs": [
    {
     "data": {
      "text/plain": [
       "['HalfEdgeTriangleMesh',\n",
       " 'Image',\n",
       " 'LineSet',\n",
       " 'PointCloud',\n",
       " 'RGBDImage',\n",
       " 'TetraMesh',\n",
       " 'TriangleMesh',\n",
       " 'Type',\n",
       " 'Unspecified',\n",
       " 'VoxelGrid',\n",
       " '__add__',\n",
       " '__class__',\n",
       " '__copy__',\n",
       " '__deepcopy__',\n",
       " '__delattr__',\n",
       " '__dir__',\n",
       " '__doc__',\n",
       " '__eq__',\n",
       " '__format__',\n",
       " '__ge__',\n",
       " '__getattribute__',\n",
       " '__gt__',\n",
       " '__hash__',\n",
       " '__iadd__',\n",
       " '__init__',\n",
       " '__init_subclass__',\n",
       " '__le__',\n",
       " '__lt__',\n",
       " '__module__',\n",
       " '__ne__',\n",
       " '__new__',\n",
       " '__reduce__',\n",
       " '__reduce_ex__',\n",
       " '__repr__',\n",
       " '__setattr__',\n",
       " '__sizeof__',\n",
       " '__str__',\n",
       " '__subclasshook__',\n",
       " 'clear',\n",
       " 'cluster_dbscan',\n",
       " 'colors',\n",
       " 'compute_convex_hull',\n",
       " 'compute_mahalanobis_distance',\n",
       " 'compute_mean_and_covariance',\n",
       " 'compute_nearest_neighbor_distance',\n",
       " 'compute_point_cloud_distance',\n",
       " 'covariances',\n",
       " 'create_from_depth_image',\n",
       " 'create_from_rgbd_image',\n",
       " 'crop',\n",
       " 'dimension',\n",
       " 'estimate_covariances',\n",
       " 'estimate_normals',\n",
       " 'estimate_point_covariances',\n",
       " 'get_axis_aligned_bounding_box',\n",
       " 'get_center',\n",
       " 'get_geometry_type',\n",
       " 'get_max_bound',\n",
       " 'get_min_bound',\n",
       " 'get_oriented_bounding_box',\n",
       " 'get_rotation_matrix_from_axis_angle',\n",
       " 'get_rotation_matrix_from_quaternion',\n",
       " 'get_rotation_matrix_from_xyz',\n",
       " 'get_rotation_matrix_from_xzy',\n",
       " 'get_rotation_matrix_from_yxz',\n",
       " 'get_rotation_matrix_from_yzx',\n",
       " 'get_rotation_matrix_from_zxy',\n",
       " 'get_rotation_matrix_from_zyx',\n",
       " 'has_colors',\n",
       " 'has_covariances',\n",
       " 'has_normals',\n",
       " 'has_points',\n",
       " 'hidden_point_removal',\n",
       " 'is_empty',\n",
       " 'normalize_normals',\n",
       " 'normals',\n",
       " 'orient_normals_consistent_tangent_plane',\n",
       " 'orient_normals_to_align_with_direction',\n",
       " 'orient_normals_towards_camera_location',\n",
       " 'paint_uniform_color',\n",
       " 'points',\n",
       " 'random_down_sample',\n",
       " 'remove_non_finite_points',\n",
       " 'remove_radius_outlier',\n",
       " 'remove_statistical_outlier',\n",
       " 'rotate',\n",
       " 'scale',\n",
       " 'segment_plane',\n",
       " 'select_by_index',\n",
       " 'transform',\n",
       " 'translate',\n",
       " 'uniform_down_sample',\n",
       " 'voxel_down_sample',\n",
       " 'voxel_down_sample_and_trace']"
      ]
     },
     "execution_count": 6,
     "metadata": {},
     "output_type": "execute_result"
    }
   ],
   "source": [
    "content = dir(pcd)\n",
    "content"
   ]
  },
  {
   "cell_type": "code",
   "execution_count": 3,
   "id": "bba83218",
   "metadata": {},
   "outputs": [
    {
     "data": {
      "text/plain": [
       "PointCloud with 7577 points."
      ]
     },
     "execution_count": 3,
     "metadata": {},
     "output_type": "execute_result"
    }
   ],
   "source": [
    "sampled=pcd.uniform_down_sample(100)\n",
    "o3d.visualization.draw_geometries([sampled])\n",
    "sampled"
   ]
  },
  {
   "cell_type": "code",
   "execution_count": null,
   "id": "8fd74453",
   "metadata": {},
   "outputs": [],
   "source": []
  }
 ],
 "metadata": {
  "kernelspec": {
   "display_name": "Python 3 (ipykernel)",
   "language": "python",
   "name": "python3"
  },
  "language_info": {
   "codemirror_mode": {
    "name": "ipython",
    "version": 3
   },
   "file_extension": ".py",
   "mimetype": "text/x-python",
   "name": "python",
   "nbconvert_exporter": "python",
   "pygments_lexer": "ipython3",
   "version": "3.9.7"
  }
 },
 "nbformat": 4,
 "nbformat_minor": 5
}
